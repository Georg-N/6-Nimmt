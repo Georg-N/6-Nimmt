{
 "cells": [
  {
   "cell_type": "code",
   "execution_count": 10,
   "metadata": {},
   "outputs": [],
   "source": [
    "import numpy as np"
   ]
  },
  {
   "cell_type": "markdown",
   "metadata": {},
   "source": [
    "## Initialisiere Spiel"
   ]
  },
  {
   "cell_type": "markdown",
   "metadata": {},
   "source": [
    "#### Festlegung Grundwerte"
   ]
  },
  {
   "cell_type": "code",
   "execution_count": 11,
   "metadata": {},
   "outputs": [],
   "source": [
    "# lege die anzahl reihen und maximale karten pro reihe fest\n",
    "anz_karten = 104\n",
    "anz_reihen = 4\n",
    "max_karten_pro_reihe = 5\n",
    "anz_karten_pro_spieler = 10"
   ]
  },
  {
   "cell_type": "markdown",
   "metadata": {},
   "source": [
    "#### Generiere karten"
   ]
  },
  {
   "cell_type": "code",
   "execution_count": 12,
   "metadata": {},
   "outputs": [],
   "source": [
    "# zahlen von 1 bis 104 als array\n",
    "zahlen = np.arange(1,anz_karten+1)\n",
    "\n",
    "# alle zahlen die zwei hornochsen haben\n",
    "zahlen_2_hornochsen = np.array([25, 45, 65, 95, 75, 85, 5, 15, 35])\n",
    "\n",
    "# alle zahlen die mehr als zwei hornochsen haben\n",
    "hornochsen_dict = {99:5, 55:7, 30:3, 44:5, 60:3, 70:3, 22:5, 66:5, 90:3, 33:5, 20:3, 77:5, 88:5, 100:3, 11:5, 50:3, 10:3, 40:3, 80:3}\n",
    "\n",
    "# ordne das hornochsen dict den zahlen zu\n",
    "anz_hornochsen = np.vectorize(hornochsen_dict.get)(zahlen)\n",
    "\n",
    "# ordne die karten mit 2 hornochsen den zahlen zu\n",
    "for i in zahlen_2_hornochsen:\n",
    "    #print(i)\n",
    "    anz_hornochsen[i-1] = 2\n",
    "    \n",
    "# ordne allen restlichen zahlen die 1 zu\n",
    "anz_hornochsen[anz_hornochsen == None] = 1\n",
    "\n",
    "# führe zahlen und anzahl hornochsen in einem array zusammen\n",
    "zahlen = np.array(zahlen).reshape(anz_karten,1)\n",
    "anz_hornochsen = np.array(anz_hornochsen).reshape(anz_karten,1)\n",
    "karten = np.hstack((zahlen, anz_hornochsen))"
   ]
  },
  {
   "cell_type": "markdown",
   "metadata": {},
   "source": [
    "## Teile Karten aus"
   ]
  },
  {
   "cell_type": "code",
   "execution_count": 9,
   "metadata": {},
   "outputs": [
    {
     "ename": "NameError",
     "evalue": "name 'auswahl_karten' is not defined",
     "output_type": "error",
     "traceback": [
      "\u001b[1;31m---------------------------------------------------------------------------\u001b[0m",
      "\u001b[1;31mNameError\u001b[0m                                 Traceback (most recent call last)",
      "\u001b[1;32m<ipython-input-9-d028ee9f01b8>\u001b[0m in \u001b[0;36m<module>\u001b[1;34m\u001b[0m\n\u001b[0;32m     16\u001b[0m \u001b[1;33m\u001b[0m\u001b[0m\n\u001b[0;32m     17\u001b[0m \u001b[1;31m# lege die reihen aus\u001b[0m\u001b[1;33m\u001b[0m\u001b[1;33m\u001b[0m\u001b[1;33m\u001b[0m\u001b[0m\n\u001b[1;32m---> 18\u001b[1;33m \u001b[0mreihen_zahlen\u001b[0m \u001b[1;33m=\u001b[0m \u001b[0mauswahl_karten\u001b[0m\u001b[1;33m[\u001b[0m\u001b[0manz_spieler\u001b[0m\u001b[1;33m*\u001b[0m\u001b[0manz_karten_pro_spieler\u001b[0m\u001b[1;33m:\u001b[0m\u001b[1;33m]\u001b[0m\u001b[1;33m\u001b[0m\u001b[1;33m\u001b[0m\u001b[0m\n\u001b[0m\u001b[0;32m     19\u001b[0m \u001b[0mreihen_karten\u001b[0m \u001b[1;33m=\u001b[0m \u001b[1;33m{\u001b[0m\u001b[1;33m}\u001b[0m\u001b[1;33m\u001b[0m\u001b[1;33m\u001b[0m\u001b[0m\n\u001b[0;32m     20\u001b[0m \u001b[1;32mfor\u001b[0m \u001b[0mi\u001b[0m\u001b[1;33m,\u001b[0m\u001b[0mj\u001b[0m \u001b[1;32min\u001b[0m \u001b[0menumerate\u001b[0m\u001b[1;33m(\u001b[0m\u001b[0mreihen_zahlen\u001b[0m\u001b[1;33m)\u001b[0m\u001b[1;33m:\u001b[0m\u001b[1;33m\u001b[0m\u001b[1;33m\u001b[0m\u001b[0m\n",
      "\u001b[1;31mNameError\u001b[0m: name 'auswahl_karten' is not defined"
     ]
    }
   ],
   "source": [
    "# bestimme die Anzahl der Spieler\n",
    "anz_spieler = 3\n",
    "\n",
    "# wähle karten aus\n",
    "auswahl_zahlen = np.random.choice(104, anz_spieler*anz_karten_pro_spieler+anz_reihen, replace=False)\n",
    "\n",
    "# verteile karten an die spieler\n",
    "spieler_zahlen = {}\n",
    "spieler_karten = {}\n",
    "for i in range(anz_spieler):\n",
    "    spieler_zahlen[i] = auswahl_zahlen[i*anz_karten_pro_spieler:(1+i)*anz_karten_pro_spieler]\n",
    "    spieler_karten[i] = np.array([])\n",
    "    for j in spieler_zahlen[i]:\n",
    "        spieler_karten[i] = np.append(spieler_karten[i],karten[j])\n",
    "    spieler_karten[i] = spieler_karten[i].reshape(anz_karten_pro_spieler,2)\n",
    "    \n",
    "# lege die reihen aus\n",
    "reihen_zahlen = auswahl_karten[anz_spieler*anz_karten_pro_spieler:]\n",
    "reihen_karten = {}\n",
    "for i,j in enumerate(reihen_zahlen):\n",
    "    reihen_karten[i] = karten[j]\n",
    "    reihen_karten[i] = reihen_karten[i].reshape(1,2)\n",
    "    \n",
    "#wer das liest ist blöd\n"
   ]
  },
  {
   "cell_type": "code",
   "execution_count": 238,
   "metadata": {},
   "outputs": [
    {
     "data": {
      "text/plain": [
       "1"
      ]
     },
     "execution_count": 238,
     "metadata": {},
     "output_type": "execute_result"
    }
   ],
   "source": [
    "reihen_karten[0][0][1]"
   ]
  },
  {
   "cell_type": "code",
   "execution_count": null,
   "metadata": {},
   "outputs": [],
   "source": [
    "führe anzahl an karten pro reihe ein\n",
    "führe summe der hornochsen pro reihe ein\n",
    "führe zahl der letzten karte ein"
   ]
  }
 ],
 "metadata": {
  "kernelspec": {
   "display_name": "Python 3",
   "language": "python",
   "name": "python3"
  },
  "language_info": {
   "codemirror_mode": {
    "name": "ipython",
    "version": 3
   },
   "file_extension": ".py",
   "mimetype": "text/x-python",
   "name": "python",
   "nbconvert_exporter": "python",
   "pygments_lexer": "ipython3",
   "version": "3.7.7"
  }
 },
 "nbformat": 4,
 "nbformat_minor": 2
}
